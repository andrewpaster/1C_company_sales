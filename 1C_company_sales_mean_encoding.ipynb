{
 "cells": [
  {
   "cell_type": "markdown",
   "metadata": {},
   "source": [
    "# Modeling Future Sales Data for Shop-Item Pairs\n",
    "\n",
    "This is a data set from a Kaggle competition representing sales for various physical stores over approximately 2 year period. The items for sale at each store vary by month. \n",
    "\n",
    "For this model the following techniques were used:\n",
    "* encoding total shop sales from previous months as features\n",
    "* encoding total item sales from previous months as features\n",
    "* encoding average item sales from previous time periods\n",
    "\n",
    "This code currently gets approximately MSE 1.56 on the test set."
   ]
  },
  {
   "cell_type": "code",
   "execution_count": 9,
   "metadata": {},
   "outputs": [],
   "source": [
    "import numpy as np \n",
    "import pandas as pd\n",
    "from xgboost.sklearn import XGBModel\n",
    "from sklearn.metrics import mean_squared_error"
   ]
  },
  {
   "cell_type": "code",
   "execution_count": 10,
   "metadata": {},
   "outputs": [],
   "source": [
    "sales_train = pd.read_csv('sales_train.csv')\n",
    "test = pd.read_csv('test.csv')"
   ]
  },
  {
   "cell_type": "markdown",
   "metadata": {},
   "source": [
    "# Create Mean Encodings "
   ]
  },
  {
   "cell_type": "code",
   "execution_count": 11,
   "metadata": {},
   "outputs": [],
   "source": [
    "# total monthly sales for shop/item pairs\n",
    "df = sales_train.groupby(['shop_id', 'item_id', 'date_block_num'], as_index=False)['item_cnt_day'].sum()\n",
    "df.rename(columns={'item_cnt_day':'item_cnt_month'}, inplace=True)\n",
    "\n",
    "# total monthly sales for each shop\n",
    "df['shop_sales'] = df.groupby(['shop_id','date_block_num'], as_index=False)['item_cnt_month'].transform('sum')\n",
    "\n",
    "# total monthly sales for each item\n",
    "df['item_sales'] = df.groupby(['item_id','date_block_num'], as_index=False)['item_cnt_month'].transform('sum')\n",
    "\n",
    "# count of shops for each time period\n",
    "df['shop_count'] = df.groupby(['date_block_num'], as_index=False)['shop_id'].transform('nunique')\n",
    "\n",
    "# count of items for each time period\n",
    "df['item_count'] = df.groupby(['date_block_num'], as_index=False)['item_id'].transform('nunique')\n",
    "\n",
    "# calculate averages\n",
    "df['shop_avg'] = df['shop_sales'] / df['shop_count']\n",
    "df['item_avg'] = df['item_sales'] / df['item_count']"
   ]
  },
  {
   "cell_type": "code",
   "execution_count": 14,
   "metadata": {},
   "outputs": [],
   "source": [
    "# calculate lag feature of previous month's sales\n",
    "def calculate_train_cv(prev_time, current_time, previous_df, current_df, test=False):\n",
    "\n",
    "    step_one = current_df[['shop_id', 'item_id']].merge(previous_df[['shop_id', 'item_id', 'item_cnt_month']], \n",
    "                                                  how='left', on=['shop_id', 'item_id'])\n",
    "    step_one.rename(columns={'item_cnt_month':'item_cnt_month_lag'}, inplace=True)\n",
    "    \n",
    "    step_two = step_one.merge(previous_df[['shop_id', 'shop_sales', 'shop_count', 'shop_avg']].drop_duplicates(), how='left', on='shop_id')\n",
    "    step_three = step_two.merge(previous_df[['item_id', 'item_sales', 'item_count', 'item_avg']].drop_duplicates(), how='left',\n",
    "                           on='item_id')\n",
    "    if not test:\n",
    "        step_three = step_three.assign(item_cnt_month=current_df['item_cnt_month'].values)\n",
    "\n",
    "    step_three['date_block'] = current_time\n",
    "    step_three['date_block_modulus'] = current_time % 12\n",
    "\n",
    "    return step_three"
   ]
  },
  {
   "cell_type": "code",
   "execution_count": 15,
   "metadata": {},
   "outputs": [],
   "source": [
    "# get training and test data ready\n",
    "train = pd.DataFrame()\n",
    "for i in range(1,34):\n",
    "    prev_time = i - 1\n",
    "    current_time = i\n",
    "    previous_df = df[df.date_block_num == prev_time]\n",
    "    current_df = df[df.date_block_num == current_time]\n",
    "    train = train.append(calculate_train_cv(prev_time, current_time, previous_df, current_df, test=False))\n",
    "\n",
    "col_keep = ['shop_id', 'item_id', 'item_cnt_month_lag', 'shop_sales', 'shop_count',\n",
    "       'shop_avg', 'item_sales', 'item_count', 'item_avg',\n",
    "       'date_block', 'date_block_modulus']\n",
    "\n",
    "test_features = calculate_train_cv(33, 34, df[df.date_block_num == 33], test, True)\n",
    "y_train = train.item_cnt_month.clip(0,20)\n",
    "X_train = train.loc[:,col_keep]\n",
    "X_test = test_features.loc[:,col_keep]"
   ]
  },
  {
   "cell_type": "code",
   "execution_count": 16,
   "metadata": {},
   "outputs": [],
   "source": [
    "# since this is time-series, cross validaiton was done by training on all data up to a specific month \n",
    "# and then validating on the next month\n",
    "\n",
    "xgb = XGBModel(max_depth=20, n_estimators=60, num_boost_rounds=1, \n",
    "               subsample=.95, colsample_bytree=.95, \n",
    "               colsample_bylevel=.95, min_child_weight=100, \n",
    "               learning_rate=.05)\n",
    "\n",
    "xgb.fit(X_train,y_train)\n",
    "\n",
    "y_test = xgb.predict(X_test)\n",
    "\n",
    "submit = test.copy()\n",
    "submit['item_cnt_month'] = y_test.clip(0,20)\n",
    "submit.loc[:,['ID', 'item_cnt_month']].to_csv('results_moretrain.csv', index=False)"
   ]
  }
 ],
 "metadata": {
  "kernelspec": {
   "display_name": "Root env",
   "language": "python",
   "name": "root"
  },
  "language_info": {
   "codemirror_mode": {
    "name": "ipython",
    "version": 3
   },
   "file_extension": ".py",
   "mimetype": "text/x-python",
   "name": "python",
   "nbconvert_exporter": "python",
   "pygments_lexer": "ipython3",
   "version": "3.7.0"
  }
 },
 "nbformat": 4,
 "nbformat_minor": 2
}
